{
 "cells": [
  {
   "cell_type": "markdown",
   "id": "11742cd8-13d0-46e9-9d72-806825580cb5",
   "metadata": {},
   "source": [
    "### Wine Quality Prediction\n",
    "\n",
    "In this notebook, we will train machine learning (regression) models to predict the quality of wine based on several features. "
   ]
  },
  {
   "cell_type": "markdown",
   "id": "7fdcf5d5-fd06-4ea4-84cc-9ecf6d76c12c",
   "metadata": {},
   "source": [
    "We will use the transformed Wine Quality dataset, which includes the following predictive features: \n",
    "\n",
    "**fixed acidity**, **volatile acidity**, **citric acid**, **pH**, **sulphates**, **alcohol**, **wine_type**, **residual_sugar_density_mean**, **chlorides_density_ratio**, **sulfur_dioxide_mean**. "
   ]
  },
  {
   "cell_type": "markdown",
   "id": "b2524d44-a6b1-4d0a-aa60-c95dd2218a05",
   "metadata": {},
   "source": [
    "The target attribute is **quality**."
   ]
  },
  {
   "cell_type": "markdown",
   "id": "69e8ca38-2224-4db0-8fa1-cb20fae2e972",
   "metadata": {},
   "source": [
    "We will train models using five different algorithms from sklearn: \n",
    "\n",
    "**LinearRegression**, **Ridge**, **Lasso**, **DecisionTreeRegressor**, **RandomForestRegressor**. \n",
    "\n",
    "For each algorithm, we will tune two to three hyperparameters."
   ]
  },
  {
   "cell_type": "code",
   "execution_count": 1,
   "id": "e63211e1-294f-4bdb-b5e9-a77dfeadc866",
   "metadata": {},
   "outputs": [],
   "source": [
    "## Import Libraries\n",
    "import pandas as pd\n",
    "import numpy as np\n",
    "from sklearn.model_selection import train_test_split, GridSearchCV\n",
    "from sklearn.metrics import mean_squared_error\n",
    "from sklearn.linear_model import LinearRegression, Ridge, Lasso\n",
    "from sklearn.tree import DecisionTreeRegressor\n",
    "from sklearn.ensemble import RandomForestRegressor\n",
    "from category_encoders import OneHotEncoder\n",
    "import matplotlib.pyplot as plt\n",
    "import seaborn as sns\n",
    "import joblib\n",
    "from IPython.display import display\n",
    "import warnings\n",
    "from sklearn.exceptions import ConvergenceWarning, DataConversionWarning\n",
    "\n",
    "# Ignore ConvergenceWarning and DataConversionWarning\n",
    "warnings.filterwarnings('ignore')\n",
    "warnings.filterwarnings(action='ignore', category=ConvergenceWarning)\n",
    "warnings.filterwarnings(action='ignore', category=DataConversionWarning)\n",
    "\n",
    "# Data source & destination path\n",
    "in_data = '../data/'"
   ]
  },
  {
   "cell_type": "code",
   "execution_count": 2,
   "id": "adc83756-0d70-4f56-b1c9-e5c7ee4a59f1",
   "metadata": {},
   "outputs": [],
   "source": [
    "## Load and Prepare Datasets\n",
    "train_df = pd.read_csv(f'{in_data}train_transformed.csv')\n",
    "val_df = pd.read_csv(f'{in_data}validate_transformed.csv')\n",
    "test_df = pd.read_csv(f'{in_data}test_transformed.csv')\n",
    "\n",
    "y_train=train_df['quality'].to_frame()\n",
    "X_train=train_df[train_df.columns.difference(['quality'])]\n",
    "y_val=val_df['quality'].to_frame()\n",
    "X_val=val_df[val_df.columns.difference(['quality'])]\n",
    "y_test=test_df['quality'].to_frame()\n",
    "X_test=test_df[test_df.columns.difference(['quality'])]"
   ]
  },
  {
   "cell_type": "code",
   "execution_count": 3,
   "id": "c0eb1c7f-6aa0-43f3-96db-940793542fb1",
   "metadata": {},
   "outputs": [],
   "source": [
    "## Define the models and their hyperparameters for tuning\n",
    "models = {\n",
    "    'LinearRegression': {\n",
    "        'model': LinearRegression(),\n",
    "        'params': {\n",
    "            'fit_intercept': [True, False],\n",
    "            'positive': [True, False]\n",
    "        }\n",
    "    },\n",
    "    'Ridge': {\n",
    "        'model': Ridge(),\n",
    "        'params': {\n",
    "            'alpha': [0.01, 0.1, 1],\n",
    "            'fit_intercept': [True, False],\n",
    "            'solver': ['svd', 'sag']\n",
    "        }\n",
    "    },\n",
    "    'Lasso': {\n",
    "        'model': Lasso(),\n",
    "        'params': {\n",
    "            'alpha': [0.01, 0.1, 1],\n",
    "            'fit_intercept': [True, False],\n",
    "            'warm_start': [True, False]\n",
    "        }\n",
    "    },\n",
    "    'DecisionTreeRegressor': {\n",
    "        'model': DecisionTreeRegressor(),\n",
    "        'params': {\n",
    "            'max_depth': [1, 5, 10],\n",
    "            'min_samples_split': [2, 5, 10],\n",
    "            'min_samples_leaf': [1, 5, 10]\n",
    "        }\n",
    "    },\n",
    "    'RandomForestRegressor': {\n",
    "        'model': RandomForestRegressor(),\n",
    "        'params': {\n",
    "            'max_depth': [1, 5, 10],\n",
    "            'n_estimators': [10, 50, 100],\n",
    "            'min_samples_split': [2, 5, 10]\n",
    "        }\n",
    "    }\n",
    "}"
   ]
  },
  {
   "cell_type": "code",
   "execution_count": 4,
   "id": "aaa8d12d-97a4-4be7-88ec-6b1789f28b3a",
   "metadata": {},
   "outputs": [],
   "source": [
    "## Encode Categorical Features\n",
    "categorical_features = [col for col in X_train.columns if X_train[col].dtype == 'object']\n",
    "encoder = OneHotEncoder(\n",
    "    cols=categorical_features,\n",
    "    handle_unknown='ignore',\n",
    "    return_df=True).fit(X_train)\n",
    "X_train = encoder.transform(X_train)\n",
    "X_val = encoder.transform(X_val)"
   ]
  },
  {
   "cell_type": "code",
   "execution_count": 5,
   "id": "98a28e40-44b1-49df-b239-2b6f90f6b078",
   "metadata": {
    "scrolled": true
   },
   "outputs": [],
   "source": [
    "## Train the models and tune the hyperparameters using GridSearchCV\n",
    "best_models = {}\n",
    "for model_name in models:\n",
    "    clf = GridSearchCV(models[model_name]['model'], models[model_name]['params'], cv=5)\n",
    "    clf.fit(X_train, y_train)\n",
    "    best_models[model_name] = clf.best_estimator_"
   ]
  },
  {
   "cell_type": "code",
   "execution_count": 6,
   "id": "40a977ad-137b-455e-ba01-1dd600e49adb",
   "metadata": {},
   "outputs": [],
   "source": [
    "## Predict the validation set using each model\n",
    "predictions = {}\n",
    "for model_name in best_models:\n",
    "    predictions[model_name] = best_models[model_name].predict(X_val)"
   ]
  },
  {
   "cell_type": "code",
   "execution_count": 7,
   "id": "5498308c-a6a3-42af-a0d6-6e14b6d5d771",
   "metadata": {},
   "outputs": [],
   "source": [
    "## Evaluate the predictions using RMSE\n",
    "rmses = {}\n",
    "for model_name in predictions:\n",
    "    rmses[model_name] = np.sqrt(mean_squared_error(y_val, predictions[model_name]))"
   ]
  },
  {
   "cell_type": "code",
   "execution_count": 8,
   "id": "141065c9-956c-4c2c-a5f0-ecc3eae86594",
   "metadata": {},
   "outputs": [
    {
     "name": "stdout",
     "output_type": "stream",
     "text": [
      "Best model is RandomForestRegressor\n",
      "RMSE on the validation set is: 0.7001605262951086\n"
     ]
    }
   ],
   "source": [
    "## Identify the best model based on RMSE\n",
    "best_model_name = min(rmses, key=rmses.get)\n",
    "best_model = best_models[best_model_name]\n",
    "print(f'Best model is {best_model_name}')\n",
    "rmse_val = rmses[best_model_name]\n",
    "print(f\"RMSE on the validation set is: {rmse_val}\")"
   ]
  },
  {
   "cell_type": "code",
   "execution_count": 9,
   "id": "fa628b25-a145-459c-8d07-30f57e3ef151",
   "metadata": {},
   "outputs": [
    {
     "data": {
      "image/png": "[encoded data removed]",
      "text/plain": [
       "<Figure size 1000x500 with 1 Axes>"
      ]
     },
     "metadata": {},
     "output_type": "display_data"
    }
   ],
   "source": [
    "## Visualize the evaluation results using a bar plot\n",
    "plt.figure(figsize=(10, 5))\n",
    "sns.barplot(x=list(rmses.keys()), y=list(rmses.values()))\n",
    "plt.xlabel('Model')\n",
    "plt.ylabel('RMSE')\n",
    "plt.title('Model Evaluation Results')\n",
    "plt.xticks(rotation=45)\n",
    "plt.show()"
   ]
  },
  {
   "cell_type": "code",
   "execution_count": 10,
   "id": "56398d0f-0a2c-4e98-898a-272d0c58b4f1",
   "metadata": {},
   "outputs": [
    {
     "data": {
      "text/plain": [
       "['../models/encoder.pkl']"
      ]
     },
     "execution_count": 10,
     "metadata": {},
     "output_type": "execute_result"
    }
   ],
   "source": [
    "## Persist the best model alongside the encoder for deployment\n",
    "joblib.dump(best_model, '../models/best_model.pkl')\n",
    "joblib.dump(encoder, '../models/encoder.pkl')"
   ]
  },
  {
   "cell_type": "code",
   "execution_count": 11,
   "id": "07a2c08a-d3f1-4f1b-bb65-71bab0d9d84a",
   "metadata": {},
   "outputs": [
    {
     "name": "stdout",
     "output_type": "stream",
     "text": [
      "RMSE on the test set is: 0.6840565922835725\n"
     ]
    }
   ],
   "source": [
    "## Load the saved (model, encoder) and apply them on the test data for testing\n",
    "best_model = joblib.load('../models/best_model.pkl')\n",
    "encoder = joblib.load('../models/encoder.pkl')\n",
    "X_test = encoder.transform(X_test)\n",
    "y_pred = best_model.predict(X_test)\n",
    "rmse_test = np.sqrt(mean_squared_error(y_test, y_pred))\n",
    "print(f\"RMSE on the test set is: {rmse_test}\")"
   ]
  }
 ],
 "metadata": {
  "kernelspec": {
   "display_name": "Python 3 (ipykernel)",
   "language": "python",
   "name": "python3"
  },
  "language_info": {
   "codemirror_mode": {
    "name": "ipython",
    "version": 3
   },
   "file_extension": ".py",
   "mimetype": "text/x-python",
   "name": "python",
   "nbconvert_exporter": "python",
   "pygments_lexer": "ipython3",
   "version": "3.10.13"
  }
 },
 "nbformat": 4,
 "nbformat_minor": 5
}
