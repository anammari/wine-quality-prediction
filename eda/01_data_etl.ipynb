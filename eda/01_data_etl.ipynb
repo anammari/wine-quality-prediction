{
 "cells": [
  {
   "cell_type": "markdown",
   "id": "3e7923bd-f2af-4a8f-9e90-5e21167f2921",
   "metadata": {},
   "source": [
    "### In this notebook, we will apply an extract-transform-load (ETL) pipeline to:\n",
    "\n",
    "- Import the required libraries.\n",
    "- Ingest the two splits (red, white) of the project data `codesignal/wine-quality` from Hugging Face Datasets.\n",
    "- Combine the `red` and `white` data splits into a single HF dataset, adding a `wine_type` categorical variable with values (red, white).\n",
    "- Convert the HF dataset to Pandas dataframe.\n",
    "- Set-up a global random state for reproducibility.\n",
    "- Shuffle the dataset.\n",
    "- Split the dataset into train (60%), validate (20%), and test (20%) splits.\n",
    "- Persist the data splits as CSV files into the file system.\n",
    "- Load the CSV files into Pandas dataframes for testing. "
   ]
  },
  {
   "cell_type": "code",
   "execution_count": 12,
   "id": "2ba8111f-6514-4f6b-af7a-c4f6c6066338",
   "metadata": {},
   "outputs": [
    {
     "name": "stdout",
     "output_type": "stream",
     "text": [
      "Proportion of train set: 0.5998152993689395\n",
      "Proportion of validation set: 0.20009235031553024\n",
      "Proportion of test set: 0.20009235031553024\n"
     ]
    }
   ],
   "source": [
    "# Import the required libraries\n",
    "import pandas as pd\n",
    "from datasets import load_dataset, concatenate_datasets\n",
    "from sklearn.model_selection import train_test_split\n",
    "\n",
    "# Data destination path\n",
    "out = '../data/'\n",
    "\n",
    "# Ingest the two splits (red, white) of the project data `codesignal/wine-quality` from Hugging Face Datasets\n",
    "dataset = load_dataset('codesignal/wine-quality', split=['red', 'white'])\n",
    "\n",
    "# Combine the `red` and `white` data splits into a single HF dataset, adding a `wine_type` categorical variable with values (red, white)\n",
    "dataset_combined = concatenate_datasets([dataset[0], dataset[1]])\n",
    "dataset_combined = dataset_combined.add_column('wine_type', ['red'] * len(dataset[0]) + ['white'] * len(dataset[1]))\n",
    "\n",
    "# Convert the HF dataset to Pandas dataframe\n",
    "df = dataset_combined.to_pandas()\n",
    "\n",
    "# Set up a global random state for reproducibility\n",
    "random_state = 42\n",
    "\n",
    "# Shuffle the dataset\n",
    "df = df.sample(frac=1, random_state=random_state).reset_index(drop=True)\n",
    "\n",
    "# Split the dataset into train (60%), validate (20%), and test (20%) splits\n",
    "train_df, test_df = train_test_split(df, test_size=0.2, random_state=random_state)\n",
    "train_df, val_df = train_test_split(train_df, test_size=0.25, random_state=random_state)\n",
    "\n",
    "# Persist the data splits as CSV files into the file system\n",
    "train_df.to_csv(f'{out}train.csv', index=False)\n",
    "val_df.to_csv(f'{out}validate.csv', index=False)\n",
    "test_df.to_csv(f'{out}test.csv', index=False)\n",
    "\n",
    "# Load the CSV files into Pandas dataframes for testing\n",
    "train_df = pd.read_csv(f'{out}train.csv')\n",
    "val_df = pd.read_csv(f'{out}validate.csv')\n",
    "test_df = pd.read_csv(f'{out}test.csv')\n",
    "\n",
    "# Print the proportions of the 3 datasets to the original df\n",
    "print(f\"Proportion of train set: {len(train_df)/len(df)}\")\n",
    "print(f\"Proportion of validation set: {len(val_df)/len(df)}\")\n",
    "print(f\"Proportion of test set: {len(test_df)/len(df)}\")"
   ]
  },
  {
   "cell_type": "code",
   "execution_count": null,
   "id": "2159726e-be15-4fa4-8636-32d7bb8d9740",
   "metadata": {},
   "outputs": [],
   "source": []
  }
 ],
 "metadata": {
  "kernelspec": {
   "display_name": "Python 3 (ipykernel)",
   "language": "python",
   "name": "python3"
  },
  "language_info": {
   "codemirror_mode": {
    "name": "ipython",
    "version": 3
   },
   "file_extension": ".py",
   "mimetype": "text/x-python",
   "name": "python",
   "nbconvert_exporter": "python",
   "pygments_lexer": "ipython3",
   "version": "3.10.13"
  }
 },
 "nbformat": 4,
 "nbformat_minor": 5
}
