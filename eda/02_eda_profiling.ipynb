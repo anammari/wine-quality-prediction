{
 "cells": [
  {
   "cell_type": "markdown",
   "id": "80f504d0-d1cb-44c6-8e3f-42053aa7b85c",
   "metadata": {},
   "source": [
    "### In this notebook, we will apply an exploratory data analysis (EDA) pipeline to:\n",
    "\n",
    "- Load the train CSV file into Pandas dataframes for exploration.\n",
    "- Use `Pandas Profiling` to profile the training dataframe by generating a data analysis report.\n",
    "- Examine the generated data analysis report.\n",
    "- Recommend any transformations to be applied on the data based on the analysis.\n",
    "- Implement the transformations logic.\n",
    "- Apply the transformations logic on the three data splits (train, validate, test).\n",
    "- Save the updated versions of the datasets as CSV files. "
   ]
  },
  {
   "cell_type": "code",
   "execution_count": 1,
   "id": "ce6fcd00-5437-4508-b1cb-71255e7b0b3e",
   "metadata": {},
   "outputs": [],
   "source": [
    "# Import the required libraries\n",
    "import numpy as np\n",
    "import pandas as pd\n",
    "from ydata_profiling import ProfileReport\n",
    "from sklearn.preprocessing import StandardScaler\n",
    "from IPython.display import display\n",
    "\n",
    "# Data source & destination path\n",
    "in_out = '../data/'"
   ]
  },
  {
   "cell_type": "code",
   "execution_count": 2,
   "id": "30533b4a-1d57-4a14-9e06-a856257f5ebd",
   "metadata": {},
   "outputs": [
    {
     "data": {
      "application/vnd.jupyter.widget-view+json": {
       "model_id": "c81c6884824147d1b5a4d4173ceb5149",
       "version_major": 2,
       "version_minor": 0
      },
      "text/plain": [
       "Summarize dataset:   0%|          | 0/5 [00:00<?, ?it/s]"
      ]
     },
     "metadata": {},
     "output_type": "display_data"
    },
    {
     "data": {
      "application/vnd.jupyter.widget-view+json": {
       "model_id": "8fb4922cd4cf47b5b11ba581668243ab",
       "version_major": 2,
       "version_minor": 0
      },
      "text/plain": [
       "Generate report structure:   0%|          | 0/1 [00:00<?, ?it/s]"
      ]
     },
     "metadata": {},
     "output_type": "display_data"
    },
    {
     "data": {
      "application/vnd.jupyter.widget-view+json": {
       "model_id": "72bfb20b97fa4f01ba0be4d053b4d7e2",
       "version_major": 2,
       "version_minor": 0
      },
      "text/plain": [
       "Render HTML:   0%|          | 0/1 [00:00<?, ?it/s]"
      ]
     },
     "metadata": {},
     "output_type": "display_data"
    },
    {
     "data": {
      "application/vnd.jupyter.widget-view+json": {
       "model_id": "4c96f3e2b108487c9b39d3e5f72bfacb",
       "version_major": 2,
       "version_minor": 0
      },
      "text/plain": [
       "Export report to file:   0%|          | 0/1 [00:00<?, ?it/s]"
      ]
     },
     "metadata": {},
     "output_type": "display_data"
    },
    {
     "data": {
      "application/vnd.jupyter.widget-view+json": {
       "model_id": "726eec0517064f8f9f6b2cc8819f7ef3",
       "version_major": 2,
       "version_minor": 0
      },
      "text/plain": [
       "Render JSON:   0%|          | 0/1 [00:00<?, ?it/s]"
      ]
     },
     "metadata": {},
     "output_type": "display_data"
    },
    {
     "data": {
      "application/vnd.jupyter.widget-view+json": {
       "model_id": "76088d44a22248d1bdd5ca788415c08a",
       "version_major": 2,
       "version_minor": 0
      },
      "text/plain": [
       "Export report to file:   0%|          | 0/1 [00:00<?, ?it/s]"
      ]
     },
     "metadata": {},
     "output_type": "display_data"
    }
   ],
   "source": [
    "# Load the train CSV file into Pandas dataframe for analysis\n",
    "train_df = pd.read_csv(f'{in_out}train.csv')\n",
    "\n",
    "# Generate a standard profiling report\n",
    "profile = ProfileReport(train_df, title=\"Training Set Profiling Report\")\n",
    "\n",
    "# Export the report to HTML & JSON files\n",
    "profile.to_file(\"train_profile_report.html\")\n",
    "profile.to_file(\"train_profile_report.json\")"
   ]
  },
  {
   "cell_type": "code",
   "execution_count": null,
   "id": "3d34b1f5-a932-4c84-b61a-83efa10da4eb",
   "metadata": {},
   "outputs": [],
   "source": [
    "# OPTIONAL: Convert the HTML report to PDF report using Pandoc as follows\n",
    "# Open Windows Powershell as Administrator and run the following commands:\n",
    "# choco install pandoc\n",
    "# choco install rsvg-convert\n",
    "# choco install miktex\n",
    "# pandoc -s -r html .\\train_profile_report.html --pdf-engine=xelatex -o train_profile_report.pdf"
   ]
  },
  {
   "cell_type": "markdown",
   "id": "68dfb944-7899-44ac-b82b-7a7baf03a8f1",
   "metadata": {},
   "source": [
    "### Profiling Report Findings and Recommendations\n",
    "\n",
    "Here are the key findings and recommendations from my analysis of the [training data profiling report](train_profile_report.html):"
   ]
  },
  {
   "cell_type": "markdown",
   "id": "bbdcbd70-3991-4ece-83ab-b01d02c30f37",
   "metadata": {},
   "source": [
    "**Missing Values:**\n",
    "\n",
    "No columns have missing values, so no imputation is needed."
   ]
  },
  {
   "cell_type": "markdown",
   "id": "dd883b30-6ffc-480d-9e24-f6f53564dd56",
   "metadata": {},
   "source": [
    "**Duplicate Rows:**\n",
    "\n",
    "There are 410 duplicate rows (10.5% of the data). \n",
    "\n",
    "I would recommend removing the duplicates to prevent overfitting models."
   ]
  },
  {
   "cell_type": "markdown",
   "id": "cbe563ea-7ff7-426f-89d6-9cc0bad04806",
   "metadata": {},
   "source": [
    "**Feature Distributions:**\n",
    "\n",
    "The following features are right skewed based on their positive skewness values in the report:\n",
    "\n",
    "- fixed acidity (skewness = 1.75)\n",
    "- volatile acidity (skewness = 1.57)\n",
    "- chlorides (skewness = 5.67)\n",
    "- free sulfur dioxide (skewness = 0.89)\n",
    "- sulphates (skewness = 1.81)\n",
    "- alcohol (skewness = 0.57)\n",
    "\n",
    "I would apply a log transformation to each of these features to make their distributions more normal before model building."
   ]
  },
  {
   "cell_type": "markdown",
   "id": "ae56687b-1513-4390-8fc9-905178ffb02e",
   "metadata": {},
   "source": [
    "**Outliers:**\n",
    "\n",
    "No major outliers identified in the analysis. \n",
    "\n",
    "However, some models like linear regression are sensitive to outliers. \n",
    "\n",
    "I suggest winsorizing / clipping extreme values as a precaution."
   ]
  },
  {
   "cell_type": "markdown",
   "id": "9b12eb43-6a19-4d1e-9eb9-2b09d25a090e",
   "metadata": {},
   "source": [
    "**Feature Scaling:**\n",
    "\n",
    "The features are in different scales based on their min and max values. \n",
    "\n",
    "To standardize them, I would apply `StandardScaler()` from `sklearn.preprocessing` to transform each feature to have mean 0 and standard deviation 1.\n",
    "\n",
    "This scaling would help optimization converge faster during model training."
   ]
  },
  {
   "cell_type": "markdown",
   "id": "12538ebd-839b-404e-9b99-bba70a045152",
   "metadata": {},
   "source": [
    "**Highly Correlated Features:**\n",
    "\n",
    "Based on the correlation matrix, the following numerical feature pairs are highly correlated:\n",
    "\n",
    "- residual sugar & density (correlation = 0.52)\n",
    "- chlorides & density (correlation = 0.59)\n",
    "- free sulfur dioxide & total sulfur dioxide (correlation = 0.74)\n",
    "\n",
    "For each correlated pair, I would create a new feature by taking the mean or ratio of the two features. This results in the following new features:\n",
    "\n",
    "- residual_sugar_density_mean\n",
    "- chlorides_density_ratio\n",
    "- sulfur_dioxide_mean\n",
    "\n",
    "Then, I will remove the correlated features from the dataset. "
   ]
  },
  {
   "cell_type": "code",
   "execution_count": 2,
   "id": "ea5c834c-cefa-4c3f-8da2-e16caa1ce00c",
   "metadata": {},
   "outputs": [],
   "source": [
    "def remove_duplicates(df):\n",
    "    df.drop_duplicates(inplace=True)\n",
    "    return df\n",
    "    \n",
    "def apply_log_transformation(df, features):\n",
    "    for feature in features:\n",
    "        df[feature] = df[feature].apply(lambda x: np.log1p(x))\n",
    "    return df\n",
    "\n",
    "def detect_outliers(df, features):\n",
    "    outlier_info = {}\n",
    "    for feature in features:\n",
    "        # Calculate the 95th percentile for the feature\n",
    "        percentile_95 = df[feature].quantile(0.95)\n",
    "        \n",
    "        # Find the indices where the feature values exceed the 95th percentile\n",
    "        outlier_indices = df[df[feature] > percentile_95].index\n",
    "\n",
    "        if len(outlier_indices) > 0:\n",
    "            # Store the lower and upper limit of outliers for the feature\n",
    "            lower_limit = df[feature].min()\n",
    "            upper_limit = percentile_95\n",
    "            \n",
    "            # Update the outlier information dictionary\n",
    "            outlier_info[feature] = {'lower_limit': lower_limit, 'upper_limit': upper_limit, 'outlier_indices': outlier_indices}\n",
    "    return outlier_info\n",
    "    \n",
    "def winsorize_outliers(df, features, lower_limits, upper_limits):\n",
    "    for feature, lower_limit, upper_limit in zip(features, lower_limits, upper_limits):\n",
    "        df[feature] = df[feature].clip(lower=lower_limit, upper=upper_limit)\n",
    "    return df\n",
    "\n",
    "def apply_feature_scaling(df, exclude_cols):\n",
    "    scaler = StandardScaler()\n",
    "    df_scaled = df.copy()\n",
    "    for col in df.columns:\n",
    "        if col not in exclude_cols:\n",
    "            df_scaled[col] = scaler.fit_transform(df[[col]])\n",
    "    return df_scaled\n",
    "\n",
    "def create_new_features(df):\n",
    "    df['residual_sugar_density_mean'] = (df['residual sugar'] + df['density']) / 2\n",
    "    df['chlorides_density_ratio'] = df['chlorides'] / df['density']\n",
    "    df['sulfur_dioxide_mean'] = (df['free sulfur dioxide'] + df['total sulfur dioxide']) / 2\n",
    "    df.drop(['residual sugar', 'chlorides', 'density', 'free sulfur dioxide', 'total sulfur dioxide'], axis=1, inplace=True)\n",
    "    return df"
   ]
  },
  {
   "cell_type": "code",
   "execution_count": 3,
   "id": "419ab09e-159b-49ee-9156-f52e008f50da",
   "metadata": {},
   "outputs": [
    {
     "name": "stdout",
     "output_type": "stream",
     "text": [
      "Feature: fixed acidity\n",
      "Lower Limit: 1.5686159179138452\n",
      "Upper Limit: 2.388762789235098\n",
      "Outlier count: 161\n",
      "\n",
      "Feature: volatile acidity\n",
      "Lower Limit: 0.07696104113612832\n",
      "Upper Limit: 0.5187937934151676\n",
      "Outlier count: 166\n",
      "\n",
      "Feature: chlorides\n",
      "Lower Limit: 0.008959741371471904\n",
      "Upper Limit: 0.09893994785490356\n",
      "Outlier count: 164\n",
      "\n",
      "Feature: free sulfur dioxide\n",
      "Lower Limit: 1.0986122886681096\n",
      "Upper Limit: 4.127134385045092\n",
      "Outlier count: 165\n",
      "\n",
      "Feature: sulphates\n",
      "Lower Limit: 0.1988508587451652\n",
      "Upper Limit: 0.5933268452777344\n",
      "Outlier count: 165\n",
      "\n",
      "Feature: alcohol\n",
      "Lower Limit: 2.1972245773362196\n",
      "Upper Limit: 2.617395832834079\n",
      "Outlier count: 164\n",
      "\n"
     ]
    },
    {
     "data": {
      "text/html": [
       "<div>\n",
       "<style scoped>\n",
       "    .dataframe tbody tr th:only-of-type {\n",
       "        vertical-align: middle;\n",
       "    }\n",
       "\n",
       "    .dataframe tbody tr th {\n",
       "        vertical-align: top;\n",
       "    }\n",
       "\n",
       "    .dataframe thead th {\n",
       "        text-align: right;\n",
       "    }\n",
       "</style>\n",
       "<table border=\"1\" class=\"dataframe\">\n",
       "  <thead>\n",
       "    <tr style=\"text-align: right;\">\n",
       "      <th></th>\n",
       "      <th>fixed acidity</th>\n",
       "      <th>volatile acidity</th>\n",
       "      <th>citric acid</th>\n",
       "      <th>pH</th>\n",
       "      <th>sulphates</th>\n",
       "      <th>alcohol</th>\n",
       "      <th>quality</th>\n",
       "      <th>wine_type</th>\n",
       "      <th>residual_sugar_density_mean</th>\n",
       "      <th>chlorides_density_ratio</th>\n",
       "      <th>sulfur_dioxide_mean</th>\n",
       "    </tr>\n",
       "  </thead>\n",
       "  <tbody>\n",
       "    <tr>\n",
       "      <th>0</th>\n",
       "      <td>1.943612</td>\n",
       "      <td>0.609132</td>\n",
       "      <td>0.611565</td>\n",
       "      <td>-1.011681</td>\n",
       "      <td>-0.021103</td>\n",
       "      <td>0.477217</td>\n",
       "      <td>6.0</td>\n",
       "      <td>white</td>\n",
       "      <td>-0.230202</td>\n",
       "      <td>-5.309967</td>\n",
       "      <td>0.184676</td>\n",
       "    </tr>\n",
       "    <tr>\n",
       "      <th>1</th>\n",
       "      <td>0.455066</td>\n",
       "      <td>2.106564</td>\n",
       "      <td>-1.496435</td>\n",
       "      <td>1.045176</td>\n",
       "      <td>-0.101079</td>\n",
       "      <td>-1.071319</td>\n",
       "      <td>5.0</td>\n",
       "      <td>red</td>\n",
       "      <td>-0.071295</td>\n",
       "      <td>0.899096</td>\n",
       "      <td>-0.451677</td>\n",
       "    </tr>\n",
       "    <tr>\n",
       "      <th>2</th>\n",
       "      <td>1.197274</td>\n",
       "      <td>-0.367374</td>\n",
       "      <td>0.203565</td>\n",
       "      <td>0.484215</td>\n",
       "      <td>1.616734</td>\n",
       "      <td>1.131435</td>\n",
       "      <td>7.0</td>\n",
       "      <td>red</td>\n",
       "      <td>-0.273300</td>\n",
       "      <td>1.665372</td>\n",
       "      <td>-1.864449</td>\n",
       "    </tr>\n",
       "    <tr>\n",
       "      <th>3</th>\n",
       "      <td>-0.974228</td>\n",
       "      <td>-0.974543</td>\n",
       "      <td>0.543565</td>\n",
       "      <td>0.234899</td>\n",
       "      <td>1.476658</td>\n",
       "      <td>1.051930</td>\n",
       "      <td>5.0</td>\n",
       "      <td>white</td>\n",
       "      <td>-0.908618</td>\n",
       "      <td>1.102921</td>\n",
       "      <td>0.400251</td>\n",
       "    </tr>\n",
       "    <tr>\n",
       "      <th>4</th>\n",
       "      <td>-0.665612</td>\n",
       "      <td>-0.367374</td>\n",
       "      <td>0.815565</td>\n",
       "      <td>-0.450720</td>\n",
       "      <td>-0.344227</td>\n",
       "      <td>-1.170216</td>\n",
       "      <td>5.0</td>\n",
       "      <td>white</td>\n",
       "      <td>0.337231</td>\n",
       "      <td>-1.053460</td>\n",
       "      <td>1.077442</td>\n",
       "    </tr>\n",
       "  </tbody>\n",
       "</table>\n",
       "</div>"
      ],
      "text/plain": [
       "   fixed acidity  volatile acidity  citric acid        pH  sulphates  \\\n",
       "0       1.943612          0.609132     0.611565 -1.011681  -0.021103   \n",
       "1       0.455066          2.106564    -1.496435  1.045176  -0.101079   \n",
       "2       1.197274         -0.367374     0.203565  0.484215   1.616734   \n",
       "3      -0.974228         -0.974543     0.543565  0.234899   1.476658   \n",
       "4      -0.665612         -0.367374     0.815565 -0.450720  -0.344227   \n",
       "\n",
       "    alcohol  quality wine_type  residual_sugar_density_mean  \\\n",
       "0  0.477217      6.0     white                    -0.230202   \n",
       "1 -1.071319      5.0       red                    -0.071295   \n",
       "2  1.131435      7.0       red                    -0.273300   \n",
       "3  1.051930      5.0     white                    -0.908618   \n",
       "4 -1.170216      5.0     white                     0.337231   \n",
       "\n",
       "   chlorides_density_ratio  sulfur_dioxide_mean  \n",
       "0                -5.309967             0.184676  \n",
       "1                 0.899096            -0.451677  \n",
       "2                 1.665372            -1.864449  \n",
       "3                 1.102921             0.400251  \n",
       "4                -1.053460             1.077442  "
      ]
     },
     "metadata": {},
     "output_type": "display_data"
    }
   ],
   "source": [
    "# Load the CSV files into Pandas dataframes for the data transformations\n",
    "train_df = pd.read_csv(f'{in_out}train.csv')\n",
    "val_df = pd.read_csv(f'{in_out}validate.csv')\n",
    "test_df = pd.read_csv(f'{in_out}test.csv')\n",
    "\n",
    "# Transform train_df as required\n",
    "train_df = remove_duplicates(train_df)\n",
    "features = ['fixed acidity', 'volatile acidity', 'chlorides', 'free sulfur dioxide', 'sulphates', 'alcohol']\n",
    "train_df = apply_log_transformation(train_df, features)\n",
    "outlier_info = detect_outliers(train_df, features)\n",
    "features = []\n",
    "lower_limits = []\n",
    "upper_limits = []\n",
    "for feature, info in outlier_info.items():\n",
    "    lower_limit = info['lower_limit']\n",
    "    upper_limit = info['upper_limit']\n",
    "    outlier_indices = info['outlier_indices']\n",
    "    outlier_count = len(outlier_indices)\n",
    "    print(f\"Feature: {feature}\")\n",
    "    print(f\"Lower Limit: {lower_limit}\")\n",
    "    print(f\"Upper Limit: {upper_limit}\")\n",
    "    print(f\"Outlier count: {outlier_count}\")\n",
    "    print()\n",
    "    features.append(feature)\n",
    "    lower_limits.append(lower_limit)\n",
    "    upper_limits.append(upper_limit)\n",
    "train_df = winsorize_outliers(train_df, features, lower_limits, upper_limits)\n",
    "train_df = apply_feature_scaling(train_df, ['wine_type', 'quality'])\n",
    "train_df = create_new_features(train_df)\n",
    "display(train_df.head(5))"
   ]
  },
  {
   "cell_type": "code",
   "execution_count": 4,
   "id": "73d83637-73b9-4f1c-82d6-26791021c2ca",
   "metadata": {},
   "outputs": [
    {
     "name": "stdout",
     "output_type": "stream",
     "text": [
      "Feature: fixed acidity\n",
      "Lower Limit: 1.589235205116581\n",
      "Upper Limit: 2.3608540011180215\n",
      "Outlier count: 62\n",
      "\n",
      "Feature: volatile acidity\n",
      "Lower Limit: 0.07696104113612832\n",
      "Upper Limit: 0.5187937934151676\n",
      "Outlier count: 62\n",
      "\n",
      "Feature: chlorides\n",
      "Lower Limit: 0.011928570865273802\n",
      "Upper Limit: 0.1032331783574455\n",
      "Outlier count: 63\n",
      "\n",
      "Feature: free sulfur dioxide\n",
      "Lower Limit: 0.6931471805599453\n",
      "Upper Limit: 4.127134385045092\n",
      "Outlier count: 61\n",
      "\n",
      "Feature: sulphates\n",
      "Lower Limit: 0.23111172096338664\n",
      "Upper Limit: 0.5822156198526637\n",
      "Outlier count: 58\n",
      "\n",
      "Feature: alcohol\n",
      "Lower Limit: 2.2407096892759584\n",
      "Upper Limit: 2.617395832834079\n",
      "Outlier count: 61\n",
      "\n"
     ]
    },
    {
     "data": {
      "text/html": [
       "<div>\n",
       "<style scoped>\n",
       "    .dataframe tbody tr th:only-of-type {\n",
       "        vertical-align: middle;\n",
       "    }\n",
       "\n",
       "    .dataframe tbody tr th {\n",
       "        vertical-align: top;\n",
       "    }\n",
       "\n",
       "    .dataframe thead th {\n",
       "        text-align: right;\n",
       "    }\n",
       "</style>\n",
       "<table border=\"1\" class=\"dataframe\">\n",
       "  <thead>\n",
       "    <tr style=\"text-align: right;\">\n",
       "      <th></th>\n",
       "      <th>fixed acidity</th>\n",
       "      <th>volatile acidity</th>\n",
       "      <th>citric acid</th>\n",
       "      <th>pH</th>\n",
       "      <th>sulphates</th>\n",
       "      <th>alcohol</th>\n",
       "      <th>quality</th>\n",
       "      <th>wine_type</th>\n",
       "      <th>residual_sugar_density_mean</th>\n",
       "      <th>chlorides_density_ratio</th>\n",
       "      <th>sulfur_dioxide_mean</th>\n",
       "    </tr>\n",
       "  </thead>\n",
       "  <tbody>\n",
       "    <tr>\n",
       "      <th>0</th>\n",
       "      <td>2.190564</td>\n",
       "      <td>0.046895</td>\n",
       "      <td>2.155839</td>\n",
       "      <td>0.232762</td>\n",
       "      <td>1.633165</td>\n",
       "      <td>0.637971</td>\n",
       "      <td>7.0</td>\n",
       "      <td>red</td>\n",
       "      <td>0.539197</td>\n",
       "      <td>0.852864</td>\n",
       "      <td>-1.983157</td>\n",
       "    </tr>\n",
       "    <tr>\n",
       "      <th>1</th>\n",
       "      <td>0.033769</td>\n",
       "      <td>-0.024094</td>\n",
       "      <td>0.569488</td>\n",
       "      <td>1.245718</td>\n",
       "      <td>0.615143</td>\n",
       "      <td>-0.055895</td>\n",
       "      <td>5.0</td>\n",
       "      <td>white</td>\n",
       "      <td>-0.445063</td>\n",
       "      <td>9.878947</td>\n",
       "      <td>-0.759966</td>\n",
       "    </tr>\n",
       "    <tr>\n",
       "      <th>2</th>\n",
       "      <td>-0.477113</td>\n",
       "      <td>0.256704</td>\n",
       "      <td>1.052290</td>\n",
       "      <td>-0.843503</td>\n",
       "      <td>0.307875</td>\n",
       "      <td>-0.328727</td>\n",
       "      <td>6.0</td>\n",
       "      <td>white</td>\n",
       "      <td>-0.717048</td>\n",
       "      <td>-4.006448</td>\n",
       "      <td>0.115675</td>\n",
       "    </tr>\n",
       "    <tr>\n",
       "      <th>3</th>\n",
       "      <td>0.698372</td>\n",
       "      <td>1.115392</td>\n",
       "      <td>1.190234</td>\n",
       "      <td>-0.083786</td>\n",
       "      <td>-1.627970</td>\n",
       "      <td>-0.421313</td>\n",
       "      <td>5.0</td>\n",
       "      <td>white</td>\n",
       "      <td>0.242498</td>\n",
       "      <td>-2.960732</td>\n",
       "      <td>0.423347</td>\n",
       "    </tr>\n",
       "    <tr>\n",
       "      <th>4</th>\n",
       "      <td>-0.166695</td>\n",
       "      <td>-1.078671</td>\n",
       "      <td>0.293601</td>\n",
       "      <td>0.296072</td>\n",
       "      <td>1.976996</td>\n",
       "      <td>-0.897240</td>\n",
       "      <td>7.0</td>\n",
       "      <td>white</td>\n",
       "      <td>-0.623175</td>\n",
       "      <td>1.976402</td>\n",
       "      <td>0.380723</td>\n",
       "    </tr>\n",
       "  </tbody>\n",
       "</table>\n",
       "</div>"
      ],
      "text/plain": [
       "   fixed acidity  volatile acidity  citric acid        pH  sulphates  \\\n",
       "0       2.190564          0.046895     2.155839  0.232762   1.633165   \n",
       "1       0.033769         -0.024094     0.569488  1.245718   0.615143   \n",
       "2      -0.477113          0.256704     1.052290 -0.843503   0.307875   \n",
       "3       0.698372          1.115392     1.190234 -0.083786  -1.627970   \n",
       "4      -0.166695         -1.078671     0.293601  0.296072   1.976996   \n",
       "\n",
       "    alcohol  quality wine_type  residual_sugar_density_mean  \\\n",
       "0  0.637971      7.0       red                     0.539197   \n",
       "1 -0.055895      5.0     white                    -0.445063   \n",
       "2 -0.328727      6.0     white                    -0.717048   \n",
       "3 -0.421313      5.0     white                     0.242498   \n",
       "4 -0.897240      7.0     white                    -0.623175   \n",
       "\n",
       "   chlorides_density_ratio  sulfur_dioxide_mean  \n",
       "0                 0.852864            -1.983157  \n",
       "1                 9.878947            -0.759966  \n",
       "2                -4.006448             0.115675  \n",
       "3                -2.960732             0.423347  \n",
       "4                 1.976402             0.380723  "
      ]
     },
     "metadata": {},
     "output_type": "display_data"
    }
   ],
   "source": [
    "# Transform val_df as required\n",
    "val_df = remove_duplicates(val_df)\n",
    "features = ['fixed acidity', 'volatile acidity', 'chlorides', 'free sulfur dioxide', 'sulphates', 'alcohol']\n",
    "val_df = apply_log_transformation(val_df, features)\n",
    "outlier_info = detect_outliers(val_df, features)\n",
    "features = []\n",
    "lower_limits = []\n",
    "upper_limits = []\n",
    "for feature, info in outlier_info.items():\n",
    "    lower_limit = info['lower_limit']\n",
    "    upper_limit = info['upper_limit']\n",
    "    outlier_indices = info['outlier_indices']\n",
    "    outlier_count = len(outlier_indices)\n",
    "    print(f\"Feature: {feature}\")\n",
    "    print(f\"Lower Limit: {lower_limit}\")\n",
    "    print(f\"Upper Limit: {upper_limit}\")\n",
    "    print(f\"Outlier count: {outlier_count}\")\n",
    "    print()\n",
    "    features.append(feature)\n",
    "    lower_limits.append(lower_limit)\n",
    "    upper_limits.append(upper_limit)\n",
    "val_df = winsorize_outliers(val_df, features, lower_limits, upper_limits)\n",
    "val_df = apply_feature_scaling(val_df, ['wine_type', 'quality'])\n",
    "val_df = create_new_features(val_df)\n",
    "display(val_df.head(5))"
   ]
  },
  {
   "cell_type": "code",
   "execution_count": 5,
   "id": "5f35cb4d-43d2-4300-8c7d-82863916f808",
   "metadata": {},
   "outputs": [
    {
     "name": "stdout",
     "output_type": "stream",
     "text": [
      "Feature: fixed acidity\n",
      "Lower Limit: 1.6486586255873816\n",
      "Upper Limit: 2.3565885663384765\n",
      "Outlier count: 63\n",
      "\n",
      "Feature: volatile acidity\n",
      "Lower Limit: 0.07696104113612832\n",
      "Upper Limit: 0.5128236264286637\n",
      "Outlier count: 59\n",
      "\n",
      "Feature: chlorides\n",
      "Lower Limit: 0.011928570865273802\n",
      "Upper Limit: 0.09216878454782193\n",
      "Outlier count: 63\n",
      "\n",
      "Feature: free sulfur dioxide\n",
      "Lower Limit: 0.6931471805599453\n",
      "Upper Limit: 4.0943445622221\n",
      "Outlier count: 62\n",
      "\n",
      "Feature: sulphates\n",
      "Lower Limit: 0.22314355131420976\n",
      "Upper Limit: 0.5766133643039938\n",
      "Outlier count: 58\n",
      "\n",
      "Feature: alcohol\n",
      "Lower Limit: 2.2407096892759584\n",
      "Upper Limit: 2.6100697927420065\n",
      "Outlier count: 60\n",
      "\n"
     ]
    },
    {
     "data": {
      "text/html": [
       "<div>\n",
       "<style scoped>\n",
       "    .dataframe tbody tr th:only-of-type {\n",
       "        vertical-align: middle;\n",
       "    }\n",
       "\n",
       "    .dataframe tbody tr th {\n",
       "        vertical-align: top;\n",
       "    }\n",
       "\n",
       "    .dataframe thead th {\n",
       "        text-align: right;\n",
       "    }\n",
       "</style>\n",
       "<table border=\"1\" class=\"dataframe\">\n",
       "  <thead>\n",
       "    <tr style=\"text-align: right;\">\n",
       "      <th></th>\n",
       "      <th>fixed acidity</th>\n",
       "      <th>volatile acidity</th>\n",
       "      <th>citric acid</th>\n",
       "      <th>pH</th>\n",
       "      <th>sulphates</th>\n",
       "      <th>alcohol</th>\n",
       "      <th>quality</th>\n",
       "      <th>wine_type</th>\n",
       "      <th>residual_sugar_density_mean</th>\n",
       "      <th>chlorides_density_ratio</th>\n",
       "      <th>sulfur_dioxide_mean</th>\n",
       "    </tr>\n",
       "  </thead>\n",
       "  <tbody>\n",
       "    <tr>\n",
       "      <th>0</th>\n",
       "      <td>-1.120154</td>\n",
       "      <td>-0.317796</td>\n",
       "      <td>0.224866</td>\n",
       "      <td>-0.374328</td>\n",
       "      <td>1.369292</td>\n",
       "      <td>0.157738</td>\n",
       "      <td>5.0</td>\n",
       "      <td>white</td>\n",
       "      <td>-0.595651</td>\n",
       "      <td>1.699143</td>\n",
       "      <td>-0.304219</td>\n",
       "    </tr>\n",
       "    <tr>\n",
       "      <th>1</th>\n",
       "      <td>-0.367534</td>\n",
       "      <td>-0.465181</td>\n",
       "      <td>1.191257</td>\n",
       "      <td>-0.189164</td>\n",
       "      <td>-0.314037</td>\n",
       "      <td>-0.869395</td>\n",
       "      <td>5.0</td>\n",
       "      <td>white</td>\n",
       "      <td>0.450530</td>\n",
       "      <td>-0.022487</td>\n",
       "      <td>1.208948</td>\n",
       "    </tr>\n",
       "    <tr>\n",
       "      <th>2</th>\n",
       "      <td>-0.575350</td>\n",
       "      <td>-0.844129</td>\n",
       "      <td>0.362922</td>\n",
       "      <td>0.674936</td>\n",
       "      <td>1.811890</td>\n",
       "      <td>0.845291</td>\n",
       "      <td>7.0</td>\n",
       "      <td>white</td>\n",
       "      <td>-0.805796</td>\n",
       "      <td>0.208846</td>\n",
       "      <td>0.845219</td>\n",
       "    </tr>\n",
       "    <tr>\n",
       "      <th>3</th>\n",
       "      <td>-0.681345</td>\n",
       "      <td>0.587470</td>\n",
       "      <td>-0.534442</td>\n",
       "      <td>1.353873</td>\n",
       "      <td>0.107481</td>\n",
       "      <td>-0.578967</td>\n",
       "      <td>6.0</td>\n",
       "      <td>white</td>\n",
       "      <td>1.523108</td>\n",
       "      <td>-0.169881</td>\n",
       "      <td>-0.063497</td>\n",
       "    </tr>\n",
       "    <tr>\n",
       "      <th>4</th>\n",
       "      <td>-0.065720</td>\n",
       "      <td>0.653610</td>\n",
       "      <td>-0.879582</td>\n",
       "      <td>1.045265</td>\n",
       "      <td>0.353829</td>\n",
       "      <td>0.420973</td>\n",
       "      <td>5.0</td>\n",
       "      <td>red</td>\n",
       "      <td>-0.303607</td>\n",
       "      <td>18.960999</td>\n",
       "      <td>-0.961104</td>\n",
       "    </tr>\n",
       "  </tbody>\n",
       "</table>\n",
       "</div>"
      ],
      "text/plain": [
       "   fixed acidity  volatile acidity  citric acid        pH  sulphates  \\\n",
       "0      -1.120154         -0.317796     0.224866 -0.374328   1.369292   \n",
       "1      -0.367534         -0.465181     1.191257 -0.189164  -0.314037   \n",
       "2      -0.575350         -0.844129     0.362922  0.674936   1.811890   \n",
       "3      -0.681345          0.587470    -0.534442  1.353873   0.107481   \n",
       "4      -0.065720          0.653610    -0.879582  1.045265   0.353829   \n",
       "\n",
       "    alcohol  quality wine_type  residual_sugar_density_mean  \\\n",
       "0  0.157738      5.0     white                    -0.595651   \n",
       "1 -0.869395      5.0     white                     0.450530   \n",
       "2  0.845291      7.0     white                    -0.805796   \n",
       "3 -0.578967      6.0     white                     1.523108   \n",
       "4  0.420973      5.0       red                    -0.303607   \n",
       "\n",
       "   chlorides_density_ratio  sulfur_dioxide_mean  \n",
       "0                 1.699143            -0.304219  \n",
       "1                -0.022487             1.208948  \n",
       "2                 0.208846             0.845219  \n",
       "3                -0.169881            -0.063497  \n",
       "4                18.960999            -0.961104  "
      ]
     },
     "metadata": {},
     "output_type": "display_data"
    }
   ],
   "source": [
    "# Transform test_df as required\n",
    "test_df = remove_duplicates(test_df)\n",
    "features = ['fixed acidity', 'volatile acidity', 'chlorides', 'free sulfur dioxide', 'sulphates', 'alcohol']\n",
    "test_df = apply_log_transformation(test_df, features)\n",
    "outlier_info = detect_outliers(test_df, features)\n",
    "features = []\n",
    "lower_limits = []\n",
    "upper_limits = []\n",
    "for feature, info in outlier_info.items():\n",
    "    lower_limit = info['lower_limit']\n",
    "    upper_limit = info['upper_limit']\n",
    "    outlier_indices = info['outlier_indices']\n",
    "    outlier_count = len(outlier_indices)\n",
    "    print(f\"Feature: {feature}\")\n",
    "    print(f\"Lower Limit: {lower_limit}\")\n",
    "    print(f\"Upper Limit: {upper_limit}\")\n",
    "    print(f\"Outlier count: {outlier_count}\")\n",
    "    print()\n",
    "    features.append(feature)\n",
    "    lower_limits.append(lower_limit)\n",
    "    upper_limits.append(upper_limit)\n",
    "test_df = winsorize_outliers(test_df, features, lower_limits, upper_limits)\n",
    "test_df = apply_feature_scaling(test_df, ['wine_type', 'quality'])\n",
    "test_df = create_new_features(test_df)\n",
    "display(test_df.head(5))"
   ]
  },
  {
   "cell_type": "code",
   "execution_count": 6,
   "id": "9247cf6e-63f6-4b07-83b2-0802ca76b568",
   "metadata": {},
   "outputs": [],
   "source": [
    "# Persist the data splits as CSV files into the file system\n",
    "train_df.to_csv(f'{in_out}train_transformed.csv', index=False)\n",
    "val_df.to_csv(f'{in_out}validate_transformed.csv', index=False)\n",
    "test_df.to_csv(f'{in_out}test_transformed.csv', index=False)"
   ]
  },
  {
   "cell_type": "markdown",
   "id": "5fbcf8ee-9edd-4f87-bf52-6c813b091898",
   "metadata": {},
   "source": [
    "### Profile the transformed training dataframe and examine the data analysis report for verification"
   ]
  },
  {
   "cell_type": "code",
   "execution_count": 7,
   "id": "0beb4961-5a77-4e34-8c1e-82d5b4f2dcdd",
   "metadata": {},
   "outputs": [
    {
     "data": {
      "application/vnd.jupyter.widget-view+json": {
       "model_id": "00540ed8671541c3984ced4a7c2de9fd",
       "version_major": 2,
       "version_minor": 0
      },
      "text/plain": [
       "Summarize dataset:   0%|          | 0/5 [00:00<?, ?it/s]"
      ]
     },
     "metadata": {},
     "output_type": "display_data"
    },
    {
     "data": {
      "application/vnd.jupyter.widget-view+json": {
       "model_id": "bc9ce089c34e4e67b6c957a2893d12aa",
       "version_major": 2,
       "version_minor": 0
      },
      "text/plain": [
       "Generate report structure:   0%|          | 0/1 [00:00<?, ?it/s]"
      ]
     },
     "metadata": {},
     "output_type": "display_data"
    },
    {
     "data": {
      "application/vnd.jupyter.widget-view+json": {
       "model_id": "023c58b29e9549baba60d5fbfdce1f9a",
       "version_major": 2,
       "version_minor": 0
      },
      "text/plain": [
       "Render HTML:   0%|          | 0/1 [00:00<?, ?it/s]"
      ]
     },
     "metadata": {},
     "output_type": "display_data"
    },
    {
     "data": {
      "application/vnd.jupyter.widget-view+json": {
       "model_id": "5aaf4c60234f440da581ac111d9bb81e",
       "version_major": 2,
       "version_minor": 0
      },
      "text/plain": [
       "Export report to file:   0%|          | 0/1 [00:00<?, ?it/s]"
      ]
     },
     "metadata": {},
     "output_type": "display_data"
    },
    {
     "data": {
      "application/vnd.jupyter.widget-view+json": {
       "model_id": "ff8e426ec48e4cb3bf8c0b846471f14f",
       "version_major": 2,
       "version_minor": 0
      },
      "text/plain": [
       "Render JSON:   0%|          | 0/1 [00:00<?, ?it/s]"
      ]
     },
     "metadata": {},
     "output_type": "display_data"
    },
    {
     "data": {
      "application/vnd.jupyter.widget-view+json": {
       "model_id": "3dc510c59cd34e90b99d778bb88e652a",
       "version_major": 2,
       "version_minor": 0
      },
      "text/plain": [
       "Export report to file:   0%|          | 0/1 [00:00<?, ?it/s]"
      ]
     },
     "metadata": {},
     "output_type": "display_data"
    }
   ],
   "source": [
    "# Load the train CSV file into Pandas dataframe for analysis\n",
    "train_df = pd.read_csv(f'{in_out}train_transformed.csv')\n",
    "\n",
    "# Generate a standard profiling report\n",
    "profile = ProfileReport(train_df, title=\"Transformed Training Set Profiling Report\")\n",
    "\n",
    "# Export the report to HTML & JSON files\n",
    "profile.to_file(\"transformed_train_profile_report.html\")\n",
    "profile.to_file(\"transformed_train_profile_report.json\")"
   ]
  },
  {
   "cell_type": "code",
   "execution_count": null,
   "id": "c218398e-0749-47ff-a11a-446fdc7eeb4b",
   "metadata": {},
   "outputs": [],
   "source": []
  }
 ],
 "metadata": {
  "kernelspec": {
   "display_name": "Python 3 (ipykernel)",
   "language": "python",
   "name": "python3"
  },
  "language_info": {
   "codemirror_mode": {
    "name": "ipython",
    "version": 3
   },
   "file_extension": ".py",
   "mimetype": "text/x-python",
   "name": "python",
   "nbconvert_exporter": "python",
   "pygments_lexer": "ipython3",
   "version": "3.10.13"
  }
 },
 "nbformat": 4,
 "nbformat_minor": 5
}
